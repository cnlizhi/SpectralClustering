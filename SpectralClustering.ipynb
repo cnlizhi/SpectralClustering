{
 "cells": [
  {
   "cell_type": "markdown",
   "metadata": {},
   "source": [
    "# 谱聚类\n",
    "我突然发现sklearn好像有谱聚类的包可以直接调orz\n",
    "\n",
    "下面的代码是我按照我参考的那篇文档整的\n",
    "\n",
    "参考地址：https://blog.csdn.net/qq_24519677/article/details/82291867"
   ]
  },
  {
   "cell_type": "code",
   "execution_count": 1,
   "metadata": {},
   "outputs": [],
   "source": [
    "from sklearn.cluster import KMeans\n",
    "import numpy as np\n",
    "import pandas as pd"
   ]
  },
  {
   "cell_type": "markdown",
   "metadata": {},
   "source": [
    "定义聚类数目"
   ]
  },
  {
   "cell_type": "code",
   "execution_count": null,
   "metadata": {},
   "outputs": [],
   "source": [
    "k = 8"
   ]
  },
  {
   "cell_type": "markdown",
   "metadata": {},
   "source": [
    "读取文件"
   ]
  },
  {
   "cell_type": "code",
   "execution_count": 3,
   "metadata": {},
   "outputs": [],
   "source": [
    "wfile = pd.read_csv(\"C:\\\\Users\\\\70743\\\\Desktop\\\\node_distance.txt\")"
   ]
  },
  {
   "cell_type": "markdown",
   "metadata": {},
   "source": [
    "数据预处理，计算相似度矩阵"
   ]
  },
  {
   "cell_type": "code",
   "execution_count": 3,
   "metadata": {},
   "outputs": [],
   "source": [
    "data = np.array(wfile)[:,1:4]\n",
    "datasize = np.round((1+np.sqrt(1+4*len(data)))/2).astype('int32')\n",
    "w = np.zeros(datasize*datasize).reshape(datasize,datasize)\n",
    "for val in range(len(data)):\n",
    "    w[np.round(data[val,0]).astype('int32')][np.round(data[val,1]).astype('int32')] = data[val,2]"
   ]
  },
  {
   "cell_type": "markdown",
   "metadata": {},
   "source": [
    "计算度矩阵"
   ]
  },
  {
   "cell_type": "code",
   "execution_count": 4,
   "metadata": {},
   "outputs": [],
   "source": [
    "d = np.zeros(datasize*datasize).reshape(datasize,datasize)\n",
    "for val in range(datasize):\n",
    "    d[val][val] = sum(w[:,val])"
   ]
  },
  {
   "cell_type": "markdown",
   "metadata": {},
   "source": [
    "L = D - W计算拉普拉斯矩阵，并计算其特征值、特征向量"
   ]
  },
  {
   "cell_type": "code",
   "execution_count": 13,
   "metadata": {},
   "outputs": [],
   "source": [
    "l = d-w\n",
    "eigenvalue,featurevector = np.linalg.eig(l)"
   ]
  },
  {
   "cell_type": "markdown",
   "metadata": {},
   "source": [
    "将特征值从小到大排序，取前k个特征值，并提取特征向量"
   ]
  },
  {
   "cell_type": "code",
   "execution_count": 14,
   "metadata": {},
   "outputs": [],
   "source": [
    "u = np.zeros(datasize*k).reshape(k,datasize)\n",
    "for val in range(k):\n",
    "    index = np.argmin(eigenvalue)\n",
    "    u[val] = featurevector[index]\n",
    "    eigenvalue = np.delete(eigenvalue,index)\n",
    "    featurevector = np.delete(featurevector,index,axis = 0)"
   ]
  },
  {
   "cell_type": "markdown",
   "metadata": {},
   "source": [
    "K-means算法聚类"
   ]
  },
  {
   "cell_type": "code",
   "execution_count": 15,
   "metadata": {},
   "outputs": [],
   "source": [
    "kmeans = KMeans(n_clusters = k,random_state = 9).fit_predict(u.T)"
   ]
  }
 ],
 "metadata": {
  "kernelspec": {
   "display_name": "Python 3",
   "language": "python",
   "name": "python3"
  },
  "language_info": {
   "codemirror_mode": {
    "name": "ipython",
    "version": 3
   },
   "file_extension": ".py",
   "mimetype": "text/x-python",
   "name": "python",
   "nbconvert_exporter": "python",
   "pygments_lexer": "ipython3",
   "version": "3.7.7"
  }
 },
 "nbformat": 4,
 "nbformat_minor": 4
}
